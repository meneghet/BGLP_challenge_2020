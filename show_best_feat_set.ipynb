{
 "cells": [
  {
   "cell_type": "code",
   "execution_count": 1,
   "metadata": {},
   "outputs": [],
   "source": [
    "import pandas as pd\n",
    "import numpy as np\n",
    "import matplotlib.pyplot as plt\n",
    "import seaborn as sns\n",
    "import os\n",
    "import time\n",
    "from sklearn.preprocessing import MinMaxScaler\n",
    "import warnings\n",
    "warnings.filterwarnings(\"ignore\")"
   ]
  },
  {
   "cell_type": "markdown",
   "metadata": {},
   "source": [
    "The best feature set for each subject is visualized in this notebook\n",
    "\n",
    "The results are loaded from a folder containing all the tries with different subset of features and the best is selected based on the RMSE obtained on the validation set. The results are divided according to the prediction horizon (PH)"
   ]
  },
  {
   "cell_type": "code",
   "execution_count": 2,
   "metadata": {},
   "outputs": [
    {
     "data": {
      "text/html": [
       "<div>\n",
       "<style scoped>\n",
       "    .dataframe tbody tr th:only-of-type {\n",
       "        vertical-align: middle;\n",
       "    }\n",
       "\n",
       "    .dataframe tbody tr th {\n",
       "        vertical-align: top;\n",
       "    }\n",
       "\n",
       "    .dataframe thead th {\n",
       "        text-align: right;\n",
       "    }\n",
       "</style>\n",
       "<table border=\"1\" class=\"dataframe\">\n",
       "  <thead>\n",
       "    <tr style=\"text-align: right;\">\n",
       "      <th></th>\n",
       "      <th>30</th>\n",
       "      <th>60</th>\n",
       "    </tr>\n",
       "  </thead>\n",
       "  <tbody>\n",
       "    <tr>\n",
       "      <td>540</td>\n",
       "      <td>CGM,pie</td>\n",
       "      <td>CGM,DR,pie</td>\n",
       "    </tr>\n",
       "    <tr>\n",
       "      <td>544</td>\n",
       "      <td>CGM,DR,pie,pce,ic_pe</td>\n",
       "      <td>CGM,pce,ic_pe</td>\n",
       "    </tr>\n",
       "    <tr>\n",
       "      <td>552</td>\n",
       "      <td>CGM,pie</td>\n",
       "      <td>CGM,pie</td>\n",
       "    </tr>\n",
       "    <tr>\n",
       "      <td>567</td>\n",
       "      <td>CGM,DR,pie</td>\n",
       "      <td>CGM,pie,exercise_ob_2nd</td>\n",
       "    </tr>\n",
       "    <tr>\n",
       "      <td>584</td>\n",
       "      <td>CGM,DR,ic_pe</td>\n",
       "      <td>CGM,ic_pe</td>\n",
       "    </tr>\n",
       "    <tr>\n",
       "      <td>596</td>\n",
       "      <td>CGM,pie,pce</td>\n",
       "      <td>CGM,DR,pie,pce</td>\n",
       "    </tr>\n",
       "  </tbody>\n",
       "</table>\n",
       "</div>"
      ],
      "text/plain": [
       "                       30                       60\n",
       "540               CGM,pie               CGM,DR,pie\n",
       "544  CGM,DR,pie,pce,ic_pe            CGM,pce,ic_pe\n",
       "552               CGM,pie                  CGM,pie\n",
       "567            CGM,DR,pie  CGM,pie,exercise_ob_2nd\n",
       "584          CGM,DR,ic_pe                CGM,ic_pe\n",
       "596           CGM,pie,pce           CGM,DR,pie,pce"
      ]
     },
     "execution_count": 2,
     "metadata": {},
     "output_type": "execute_result"
    }
   ],
   "source": [
    "patient_list = [540,544,552,567,584,596]\n",
    "\n",
    "df = pd.DataFrame()\n",
    "\n",
    "for PH in [30, 60]:\n",
    "\n",
    "    for patN in patient_list:\n",
    "\n",
    "        # Read data\n",
    "        patient = str(patN)\n",
    "        data_tr = pd.read_csv('data/ohio'+patient+'_Training.txt',sep=',')\n",
    "        data_te = pd.read_csv('data/ohio'+patient+'_Testing.txt',sep=',')\n",
    "\n",
    "        # Load training results\n",
    "        out_str = 'single_output'\n",
    "        results = np.load(os.path.join('results','hpar_full_selection','results_training.'+patient+'.ph'+str(PH)+'.'+out_str+'.npy'),allow_pickle='TRUE').item()\n",
    "\n",
    "        # find the best try\n",
    "        best_try = np.where(results['val_loss'] == np.min(results['val_loss']))[0][0]\n",
    "        feat_set = list(results['to_use'][best_try])\n",
    "\n",
    "        # add to table\n",
    "        df.loc[patient,PH] = ','.join(feat_set)\n",
    "\n",
    "df"
   ]
  }
 ],
 "metadata": {
  "kernelspec": {
   "display_name": "Python 3",
   "language": "python",
   "name": "python3"
  },
  "language_info": {
   "codemirror_mode": {
    "name": "ipython",
    "version": 3
   },
   "file_extension": ".py",
   "mimetype": "text/x-python",
   "name": "python",
   "nbconvert_exporter": "python",
   "pygments_lexer": "ipython3",
   "version": "3.7.2"
  }
 },
 "nbformat": 4,
 "nbformat_minor": 2
}
